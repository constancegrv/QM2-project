{
 "cells": [
  {
   "cell_type": "markdown",
   "metadata": {},
   "source": [
    "we start by uploading all of the packages we need "
   ]
  },
  {
   "cell_type": "code",
   "execution_count": null,
   "metadata": {},
   "outputs": [],
   "source": [
    "import pandas as pd\n",
    "import matplotlib.pyplot as plt\n",
    "import geopandas as gpd\n",
    "import os"
   ]
  },
  {
   "cell_type": "markdown",
   "metadata": {},
   "source": [
    "now we clean and merge our two data sets (the use of petroleum per state data and the shapefile of the US) into one that can be used in order to create the map"
   ]
  },
  {
   "cell_type": "code",
   "execution_count": null,
   "metadata": {},
   "outputs": [],
   "source": [
    "#uploading all of the data we need from my computer\n",
    "map_us = gpd.read_file(r'C:\\data_QM\\states_21basic\\states.shp')\n",
    "map_us.sort_values('STATE_NAME',inplace = True)\n",
    "us_energy = pd.read_csv(r'C:\\data_QM\\US-use-of-petroleum-2010-17.csv', error_bad_lines=False,\n",
    "                  engine = 'python', sep = ';')\n",
    "\n",
    "\n",
    "#cleaning all of our US data so that we only have what we need, nothing more and so python can use all of it\n",
    "us_energy.drop(us_energy.index[0:5], inplace = True)\n",
    "us_energy = us_energy.reset_index(drop=True)\n",
    "us_energy.drop(us_energy.index[60:75], inplace = True)\n",
    "us_energy.drop(us_energy.columns[[0,11,12,13,14,15,16,17,18,19,20,21,22,23]], axis = 1, inplace = True)\n",
    "us_energy.columns = ['State', '2010','2011','2012','2013','2014','2015','2016','2017','2018']\n",
    "\n",
    "\n",
    "#creating a list in order to store all of the years for which we have data\n",
    "years = ['2010', '2011','2012','2013','2014','2015','2016','2017', '2018']\n",
    "  \n",
    "#merging the two data sets to make the map\n",
    "us_energy.sort_values('State', inplace = True)\n",
    "map_us.set_index('STATE_NAME')\n",
    "us_energy.set_index('State')\n",
    "us_map = map_us.merge(us_energy, left_index=True, right_index=True, how='inner')"
   ]
  },
  {
   "cell_type": "markdown",
   "metadata": {},
   "source": [
    "Finally we use the new dataset in order to make a map for each year and store them all in a folder"
   ]
  },
  {
   "cell_type": "code",
   "execution_count": null,
   "metadata": {},
   "outputs": [],
   "source": [
    "#choosing where the images of the maps will be saved in your computer\n",
    "output_path = r'C:\\data_QM\\maps_outputs\\US'\n",
    "\n",
    "#for loop to help make the maps for every year at once\n",
    "for i in years:\n",
    "    #Create the variables which will be mapped\n",
    "    variable = i\n",
    "    vmin, vmax = 450, 4200\n",
    "       \n",
    "# create figure and axes for Matplotlib\n",
    "#plt.figure()\n",
    "    fig, ax = plt.subplots(1, figsize=(60, 60))\n",
    "       \n",
    "    #energy expenditure per state\n",
    "    us_map.plot(column=variable, cmap='YlOrRd', vmin = 450, vmax = 4000, linewidth=0.8, ax=ax, edgecolor='0.8', legend = 'True')\n",
    "    plt.title('Domestic expenditure on petroleum per capita in ' + i , fontsize = 16, loc = 'center')\n",
    "    ax.axis('off')\n",
    "    filepath = os.path.join(output_path, i +' petroleum exp.jpg')\n",
    "    plt.savefig(filepath)"
   ]
  }
 ],
 "metadata": {
  "kernelspec": {
   "display_name": "Python 3",
   "language": "python",
   "name": "python3"
  },
  "language_info": {
   "codemirror_mode": {
    "name": "ipython",
    "version": 3
   },
   "file_extension": ".py",
   "mimetype": "text/x-python",
   "name": "python",
   "nbconvert_exporter": "python",
   "pygments_lexer": "ipython3",
   "version": "3.7.1"
  }
 },
 "nbformat": 4,
 "nbformat_minor": 2
}
